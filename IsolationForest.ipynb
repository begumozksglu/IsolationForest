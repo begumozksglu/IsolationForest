{
 "cells": [
  {
   "cell_type": "code",
   "execution_count": 1,
   "id": "8eb0756e",
   "metadata": {},
   "outputs": [],
   "source": [
    "# Gerekli kütüphaneleri içe aktarıyoruz.\n",
    "import numpy as np\n",
    "import pandas as pd\n",
    "import matplotlib.pyplot as plt\n",
    "\n",
    "from sklearn.datasets import make_blobs\n",
    "from sklearn.ensemble import IsolationForest"
   ]
  },
  {
   "cell_type": "code",
   "execution_count": 70,
   "id": "ea97f270",
   "metadata": {},
   "outputs": [],
   "source": [
    "n_samples = 1000\n",
    "outliers_fraction = 0.01"
   ]
  },
  {
   "cell_type": "code",
   "execution_count": 71,
   "id": "61f8fd8f",
   "metadata": {},
   "outputs": [],
   "source": [
    "n_outliers = int(outliers_fraction * n_samples)"
   ]
  },
  {
   "cell_type": "code",
   "execution_count": 72,
   "id": "94b81eb6",
   "metadata": {},
   "outputs": [
    {
     "data": {
      "text/plain": [
       "10"
      ]
     },
     "execution_count": 72,
     "metadata": {},
     "output_type": "execute_result"
    }
   ],
   "source": [
    "n_outliers"
   ]
  },
  {
   "cell_type": "code",
   "execution_count": 73,
   "id": "976fc686",
   "metadata": {},
   "outputs": [],
   "source": [
    "n_inliers = n_samples - n_outliers"
   ]
  },
  {
   "cell_type": "code",
   "execution_count": 74,
   "id": "e9a5ad47",
   "metadata": {},
   "outputs": [
    {
     "data": {
      "text/plain": [
       "990"
      ]
     },
     "execution_count": 74,
     "metadata": {},
     "output_type": "execute_result"
    }
   ],
   "source": [
    "n_inliers"
   ]
  },
  {
   "cell_type": "code",
   "execution_count": 75,
   "id": "c9e2dada",
   "metadata": {},
   "outputs": [],
   "source": [
    "params = dict(random_state=0, n_samples=n_inliers, n_features=2)"
   ]
  },
  {
   "cell_type": "code",
   "execution_count": 76,
   "id": "a7ebcb54",
   "metadata": {},
   "outputs": [
    {
     "data": {
      "text/plain": [
       "{'random_state': 0, 'n_samples': 990, 'n_features': 2}"
      ]
     },
     "execution_count": 76,
     "metadata": {},
     "output_type": "execute_result"
    }
   ],
   "source": [
    "params"
   ]
  },
  {
   "cell_type": "code",
   "execution_count": 77,
   "id": "8d029433",
   "metadata": {},
   "outputs": [],
   "source": [
    "X = make_blobs(centers=[[0, 0], [0, 0]], \n",
    "               cluster_std=0.05,\n",
    "               **params)[0]"
   ]
  },
  {
   "cell_type": "code",
   "execution_count": 78,
   "id": "d4f4ed96",
   "metadata": {},
   "outputs": [
    {
     "data": {
      "text/plain": [
       "array([[ 0.08820262,  0.02000786],\n",
       "       [-0.02827489,  0.02380157],\n",
       "       [ 0.01036354,  0.01538663],\n",
       "       ...,\n",
       "       [ 0.02882954, -0.01041494],\n",
       "       [-0.08069489, -0.01063701],\n",
       "       [ 0.00796252, -0.09792745]])"
      ]
     },
     "execution_count": 78,
     "metadata": {},
     "output_type": "execute_result"
    }
   ],
   "source": [
    "X"
   ]
  },
  {
   "cell_type": "code",
   "execution_count": 79,
   "id": "51b91028",
   "metadata": {},
   "outputs": [],
   "source": [
    "rng = np.random.RandomState(42)"
   ]
  },
  {
   "cell_type": "code",
   "execution_count": 80,
   "id": "2e6a04b8",
   "metadata": {},
   "outputs": [],
   "source": [
    "X = np.concatenate([X, rng.uniform(low=-6, high=6, size=(n_outliers, 2))], axis=0)"
   ]
  },
  {
   "cell_type": "code",
   "execution_count": 81,
   "id": "342b4d6f",
   "metadata": {},
   "outputs": [
    {
     "name": "stdout",
     "output_type": "stream",
     "text": [
      "Building estimator 1 of 10 for this parallel run (total 10)...\n",
      "Building estimator 2 of 10 for this parallel run (total 10)...\n",
      "Building estimator 3 of 10 for this parallel run (total 10)...\n",
      "Building estimator 4 of 10 for this parallel run (total 10)...\n",
      "Building estimator 5 of 10 for this parallel run (total 10)...\n",
      "Building estimator 6 of 10 for this parallel run (total 10)...\n",
      "Building estimator 7 of 10 for this parallel run (total 10)...\n",
      "Building estimator 8 of 10 for this parallel run (total 10)...\n",
      "Building estimator 9 of 10 for this parallel run (total 10)...\n",
      "Building estimator 10 of 10 for this parallel run (total 10)...\n"
     ]
    },
    {
     "name": "stderr",
     "output_type": "stream",
     "text": [
      "[Parallel(n_jobs=1)]: Using backend SequentialBackend with 1 concurrent workers.\n",
      "[Parallel(n_jobs=1)]: Done   1 out of   1 | elapsed:    0.0s remaining:    0.0s\n",
      "[Parallel(n_jobs=1)]: Done   1 out of   1 | elapsed:    0.0s finished\n"
     ]
    },
    {
     "data": {
      "text/plain": [
       "IsolationForest(n_estimators=10, verbose=2)"
      ]
     },
     "execution_count": 81,
     "metadata": {},
     "output_type": "execute_result"
    }
   ],
   "source": [
    "iForest = IsolationForest(n_estimators=10, verbose=2)\n",
    "iForest.fit(X)"
   ]
  },
  {
   "cell_type": "code",
   "execution_count": 82,
   "id": "7e0588f8",
   "metadata": {},
   "outputs": [],
   "source": [
    "pred = iForest.predict(X)"
   ]
  },
  {
   "cell_type": "code",
   "execution_count": 83,
   "id": "47ac7f54",
   "metadata": {},
   "outputs": [
    {
     "data": {
      "image/png": "[encoded data removed]",
      "text/plain": [
       "<Figure size 432x288 with 1 Axes>"
      ]
     },
     "metadata": {
      "needs_background": "light"
     },
     "output_type": "display_data"
    }
   ],
   "source": [
    "plt.scatter(X[:, 0], X[:, 1], c=pred, cmap='RdBu');"
   ]
  },
  {
   "cell_type": "code",
   "execution_count": 84,
   "id": "16755193",
   "metadata": {},
   "outputs": [],
   "source": [
    "pred_scores = -1*iForest.score_samples(X)"
   ]
  },
  {
   "cell_type": "code",
   "execution_count": 85,
   "id": "cde1d2f9",
   "metadata": {},
   "outputs": [
    {
     "data": {
      "text/plain": [
       "array([0.52664848, 0.37275386, 0.38333897, 0.4300854 , 0.38055549,\n",
       "       0.41414288, 0.54143764, 0.38772949, 0.47746767, 0.55377612,\n",
       "       0.38327714, 0.41986936, 0.53340752, 0.41517534, 0.37415816,\n",
       "       0.379348  , 0.49036561, 0.4039598 , 0.39855399, 0.46193953,\n",
       "       0.41531252, 0.42998414, 0.42183986, 0.39251415, 0.43957118,\n",
       "       0.3801144 , 0.49275613, 0.41480759, 0.44018311, 0.38695114,\n",
       "       0.38244054, 0.44467609, 0.36645878, 0.41434335, 0.37112764,\n",
       "       0.39251415, 0.44335373, 0.37608289, 0.38220681, 0.36472299,\n",
       "       0.4807091 , 0.38846192, 0.38776415, 0.48204725, 0.45077894,\n",
       "       0.40381689, 0.55653409, 0.38849855, 0.43217893, 0.36647241,\n",
       "       0.40981149, 0.36629543, 0.39893951, 0.37486265, 0.51914334,\n",
       "       0.57502784, 0.39855399, 0.45189488, 0.40526113, 0.47067154,\n",
       "       0.48146126, 0.49351256, 0.36339775, 0.50403025, 0.37953719,\n",
       "       0.43883314, 0.56083527, 0.48941255, 0.36974763, 0.5062373 ,\n",
       "       0.37476477, 0.38040586, 0.46220805, 0.44874112, 0.54143764,\n",
       "       0.48898405, 0.53715557, 0.45145044, 0.4571325 , 0.45471205,\n",
       "       0.44874756, 0.39741982, 0.36697533, 0.36574732, 0.38341682,\n",
       "       0.44666392, 0.44018311, 0.39855399, 0.4743227 , 0.41531252,\n",
       "       0.53359568, 0.47561964, 0.37486265, 0.40056595, 0.52252779,\n",
       "       0.49934736, 0.42241527, 0.52898938, 0.42614939, 0.42334603,\n",
       "       0.38781498, 0.44965168, 0.53065312, 0.48485297, 0.44018311,\n",
       "       0.56847592, 0.44892836, 0.48643097, 0.50237812, 0.39982509,\n",
       "       0.63615747, 0.40955233, 0.42954895, 0.39261417, 0.44414712,\n",
       "       0.45884361, 0.36715391, 0.38172516, 0.47133753, 0.4477645 ,\n",
       "       0.38010329, 0.38044372, 0.40842913, 0.38978738, 0.48671448,\n",
       "       0.48615498, 0.47230081, 0.393935  , 0.50571657, 0.37169088,\n",
       "       0.37815751, 0.39534804, 0.41634525, 0.47458629, 0.44571525,\n",
       "       0.38333897, 0.50017063, 0.45735013, 0.52759125, 0.38466236,\n",
       "       0.38666181, 0.39328377, 0.44727713, 0.4052859 , 0.49570826,\n",
       "       0.40016229, 0.36946173, 0.48514456, 0.43304581, 0.36766955,\n",
       "       0.50742961, 0.39745309, 0.37868991, 0.48289787, 0.49824374,\n",
       "       0.38917661, 0.40654964, 0.37021848, 0.40666354, 0.46244883,\n",
       "       0.37649482, 0.48754793, 0.40006936, 0.38244819, 0.37974472,\n",
       "       0.47783914, 0.39271189, 0.50966106, 0.43285564, 0.39517285,\n",
       "       0.36976581, 0.36908181, 0.38527982, 0.37030173, 0.40166345,\n",
       "       0.41362089, 0.39487611, 0.38336131, 0.47415537, 0.41076483,\n",
       "       0.42702265, 0.52657023, 0.48445153, 0.37608289, 0.47000006,\n",
       "       0.38800903, 0.39037951, 0.40449798, 0.41298955, 0.393935  ,\n",
       "       0.40056595, 0.36508871, 0.49396319, 0.44664371, 0.37890272,\n",
       "       0.39202091, 0.40575645, 0.46304408, 0.38452478, 0.36645878,\n",
       "       0.39398662, 0.42528297, 0.39893951, 0.45744864, 0.47059582,\n",
       "       0.56468457, 0.36976581, 0.36882814, 0.67153963, 0.45548826,\n",
       "       0.41480759, 0.40160799, 0.41639614, 0.41379417, 0.41183262,\n",
       "       0.48754793, 0.37765415, 0.39124963, 0.40816927, 0.38892105,\n",
       "       0.45122453, 0.39626263, 0.40336806, 0.3958376 , 0.38907492,\n",
       "       0.45884361, 0.4382178 , 0.48490483, 0.43005336, 0.38052051,\n",
       "       0.4823229 , 0.58922556, 0.46672514, 0.4376453 , 0.43525748,\n",
       "       0.51608628, 0.40315401, 0.40781588, 0.42590429, 0.62822322,\n",
       "       0.38460191, 0.53815374, 0.40160799, 0.36976581, 0.38276576,\n",
       "       0.36882814, 0.37415816, 0.40799574, 0.37374073, 0.36882814,\n",
       "       0.38086152, 0.42551643, 0.50295052, 0.40449798, 0.44571525,\n",
       "       0.48074741, 0.382484  , 0.38627029, 0.47191098, 0.37227748,\n",
       "       0.51529444, 0.37169088, 0.36881166, 0.44874112, 0.36976581,\n",
       "       0.42574479, 0.38413273, 0.46624207, 0.36832581, 0.3801144 ,\n",
       "       0.37953719, 0.39586053, 0.51308065, 0.3801144 , 0.62638664,\n",
       "       0.38181101, 0.39517285, 0.38086152, 0.4382178 , 0.40010907,\n",
       "       0.37543416, 0.38162372, 0.42574479, 0.54795528, 0.37793742,\n",
       "       0.41362089, 0.36574732, 0.39261417, 0.52932731, 0.37793742,\n",
       "       0.36472299, 0.41794947, 0.43217893, 0.36216284, 0.47561964,\n",
       "       0.36472299, 0.39952163, 0.48426039, 0.38556813, 0.38413273,\n",
       "       0.44181229, 0.51630683, 0.42318739, 0.38846192, 0.36420372,\n",
       "       0.61892442, 0.37913004, 0.48265097, 0.42702265, 0.39398662,\n",
       "       0.46235484, 0.39320732, 0.56468457, 0.36472299, 0.48600362,\n",
       "       0.43537796, 0.38064815, 0.40166345, 0.40564819, 0.45921685,\n",
       "       0.41130201, 0.54597609, 0.40070482, 0.48933158, 0.39547904,\n",
       "       0.47478853, 0.37622724, 0.39318103, 0.58457635, 0.51094438,\n",
       "       0.37468446, 0.38177265, 0.36839087, 0.39970121, 0.41704481,\n",
       "       0.43525748, 0.3956612 , 0.57562247, 0.38524697, 0.3695695 ,\n",
       "       0.36887057, 0.37275386, 0.36508871, 0.36715391, 0.39774533,\n",
       "       0.38244819, 0.47571866, 0.41593969, 0.38162372, 0.39952163,\n",
       "       0.38413273, 0.49892969, 0.39203973, 0.40178786, 0.54795528,\n",
       "       0.41186847, 0.38460191, 0.38917661, 0.39498223, 0.39968913,\n",
       "       0.3813087 , 0.45484957, 0.38781498, 0.39625135, 0.38220681,\n",
       "       0.41413243, 0.49285388, 0.47916731, 0.40771049, 0.47874217,\n",
       "       0.44018311, 0.45600674, 0.40166345, 0.37678371, 0.40336806,\n",
       "       0.38341682, 0.4825915 , 0.37768011, 0.40771049, 0.39261417,\n",
       "       0.49454027, 0.38341682, 0.379348  , 0.382484  , 0.3874813 ,\n",
       "       0.38052051, 0.4797885 , 0.46505384, 0.46587778, 0.38824997,\n",
       "       0.46549152, 0.44372331, 0.41883055, 0.49831246, 0.46234199,\n",
       "       0.40207252, 0.4108685 , 0.47058135, 0.38964553, 0.48859722,\n",
       "       0.40994634, 0.39718539, 0.4477645 , 0.46376015, 0.37169088,\n",
       "       0.48618752, 0.41186847, 0.37394697, 0.4034819 , 0.53948977,\n",
       "       0.38327714, 0.3695695 , 0.39487611, 0.39741982, 0.43813384,\n",
       "       0.49406631, 0.38758249, 0.37608289, 0.38460191, 0.43923109,\n",
       "       0.41213948, 0.46678512, 0.38044372, 0.38199111, 0.36216284,\n",
       "       0.41994291, 0.36647241, 0.379348  , 0.37736893, 0.379348  ,\n",
       "       0.50044748, 0.44631989, 0.47922014, 0.42307915, 0.49944795,\n",
       "       0.36884186, 0.37793742, 0.393935  , 0.44641434, 0.37910927,\n",
       "       0.37415816, 0.47935988, 0.39271189, 0.39261417, 0.38119123,\n",
       "       0.4753509 , 0.43168727, 0.36882814, 0.37169088, 0.38527982,\n",
       "       0.49295053, 0.50044748, 0.38800903, 0.40056595, 0.39099604,\n",
       "       0.37232048, 0.44446183, 0.42954895, 0.37468446, 0.50046215,\n",
       "       0.40231994, 0.37608289, 0.55428959, 0.37153189, 0.45600674,\n",
       "       0.38244054, 0.41986936, 0.44919126, 0.38460191, 0.40056595,\n",
       "       0.45485463, 0.38767508, 0.46382905, 0.40123254, 0.39741982,\n",
       "       0.36695622, 0.4382178 , 0.42102753, 0.40505121, 0.38781498,\n",
       "       0.48977228, 0.41637505, 0.44329001, 0.37608289, 0.3891775 ,\n",
       "       0.41883055, 0.46309819, 0.37953719, 0.45548826, 0.50510928,\n",
       "       0.37608289, 0.39039353, 0.41817579, 0.38460191, 0.55242075,\n",
       "       0.38978738, 0.36081617, 0.36766955, 0.4029129 , 0.38245471,\n",
       "       0.52740757, 0.42653791, 0.41153901, 0.38366272, 0.39626263,\n",
       "       0.47939644, 0.49527889, 0.41208835, 0.49538586, 0.42334603,\n",
       "       0.36908181, 0.3819299 , 0.59111122, 0.37622724, 0.36715391,\n",
       "       0.44601742, 0.47018533, 0.39488397, 0.41153901, 0.44265149,\n",
       "       0.38199111, 0.38849855, 0.44888346, 0.52456096, 0.37169088,\n",
       "       0.37169088, 0.52918878, 0.40941793, 0.4657286 , 0.38825287,\n",
       "       0.37953719, 0.46917232, 0.48568413, 0.36908181, 0.38460191,\n",
       "       0.38052051, 0.3874813 , 0.38325517, 0.44154883, 0.39317481,\n",
       "       0.46138162, 0.43574059, 0.40589018, 0.44598675, 0.37608289,\n",
       "       0.38244054, 0.59512416, 0.3938933 , 0.38460191, 0.37793742,\n",
       "       0.39547904, 0.55705354, 0.50857702, 0.36901726, 0.38366272,\n",
       "       0.38341682, 0.49425136, 0.41517534, 0.46368078, 0.38460191,\n",
       "       0.42954895, 0.37953719, 0.48062761, 0.38460191, 0.45928033,\n",
       "       0.40123254, 0.44446183, 0.36538927, 0.37649482, 0.57502784,\n",
       "       0.48532726, 0.39286424, 0.50328169, 0.47044082, 0.40449798,\n",
       "       0.3819245 , 0.41986936, 0.379348  , 0.36538927, 0.45992553,\n",
       "       0.48186367, 0.45315441, 0.4092287 , 0.41637505, 0.48046942,\n",
       "       0.44952096, 0.40056595, 0.56402695, 0.38336131, 0.41637505,\n",
       "       0.5596239 , 0.41414288, 0.38666181, 0.40449798, 0.37622724,\n",
       "       0.38892105, 0.38846192, 0.41466005, 0.36908181, 0.63186784,\n",
       "       0.65360917, 0.38181101, 0.43831456, 0.39165126, 0.43883314,\n",
       "       0.36908181, 0.46219561, 0.41517534, 0.36737236, 0.4571325 ,\n",
       "       0.37437121, 0.49334533, 0.44123509, 0.39756476, 0.48897667,\n",
       "       0.52918878, 0.39188671, 0.38460191, 0.38465371, 0.41362089,\n",
       "       0.47418514, 0.39547904, 0.44264387, 0.36472299, 0.38781498,\n",
       "       0.36908181, 0.41458739, 0.38964553, 0.38413273, 0.36882814,\n",
       "       0.43158551, 0.54338613, 0.42619392, 0.4876284 , 0.39318103,\n",
       "       0.41003904, 0.3774519 , 0.47245323, 0.38666181, 0.37910927,\n",
       "       0.38341682, 0.4879369 , 0.38162372, 0.46480574, 0.48098928,\n",
       "       0.40771049, 0.40958336, 0.38086152, 0.39952163, 0.47326431,\n",
       "       0.39952163, 0.39706354, 0.39534804, 0.42444207, 0.53278134,\n",
       "       0.37649482, 0.42444207, 0.40915284, 0.39706354, 0.61264653,\n",
       "       0.48214871, 0.46886845, 0.50857603, 0.4092287 , 0.48839419,\n",
       "       0.4054954 , 0.36715391, 0.41236394, 0.39739822, 0.48328496,\n",
       "       0.50231682, 0.47022663, 0.39706354, 0.37608289, 0.39517285,\n",
       "       0.46376015, 0.61304812, 0.36216284, 0.46816296, 0.409069  ,\n",
       "       0.40622169, 0.48863887, 0.44150109, 0.36976581, 0.44956707,\n",
       "       0.4692191 , 0.48182989, 0.37974472, 0.40098057, 0.61277232,\n",
       "       0.36882814, 0.4421679 , 0.56195239, 0.47790327, 0.5107681 ,\n",
       "       0.3891775 , 0.45467512, 0.38176763, 0.40056595, 0.39398662,\n",
       "       0.40297321, 0.39039353, 0.37021848, 0.3907163 , 0.53278134,\n",
       "       0.51564274, 0.44952096, 0.38280145, 0.47964168, 0.40106139,\n",
       "       0.45907901, 0.38527982, 0.38892105, 0.38586065, 0.45447646,\n",
       "       0.39340814, 0.38341682, 0.40050735, 0.51217328, 0.41022872,\n",
       "       0.54535166, 0.38086152, 0.37393405, 0.43952429, 0.39952163,\n",
       "       0.44449836, 0.42713921, 0.3929848 , 0.38452478, 0.41248664,\n",
       "       0.51656385, 0.41018336, 0.37890272, 0.3949902 , 0.61979349,\n",
       "       0.43217893, 0.36881166, 0.36216284, 0.56977279, 0.37711524,\n",
       "       0.64482428, 0.47612755, 0.3910676 , 0.5097358 , 0.38049711,\n",
       "       0.40526113, 0.38658365, 0.36715391, 0.40816927, 0.46917232,\n",
       "       0.39534804, 0.38220681, 0.48779088, 0.43321697, 0.40857985,\n",
       "       0.37486265, 0.38307842, 0.36216284, 0.44641434, 0.59747326,\n",
       "       0.41711253, 0.49695715, 0.52664848, 0.52562045, 0.3949902 ,\n",
       "       0.39487611, 0.52127669, 0.48289312, 0.49228384, 0.44018311,\n",
       "       0.37626819, 0.38336131, 0.36715391, 0.38527982, 0.4340375 ,\n",
       "       0.39952163, 0.40056595, 0.40781588, 0.42922911, 0.54466358,\n",
       "       0.38781498, 0.44449836, 0.55329732, 0.60366431, 0.36216284,\n",
       "       0.38439929, 0.61977953, 0.45172287, 0.38336131, 0.47631803,\n",
       "       0.43525748, 0.38231146, 0.37275357, 0.44370508, 0.38666181,\n",
       "       0.36901726, 0.38052051, 0.39340814, 0.48186367, 0.46676906,\n",
       "       0.51661768, 0.38131207, 0.38063394, 0.41413243, 0.38846192,\n",
       "       0.37227748, 0.49793417, 0.39509907, 0.44341086, 0.37468446,\n",
       "       0.51896594, 0.37415816, 0.37608289, 0.38176763, 0.52999763,\n",
       "       0.49696863, 0.44920971, 0.51216575, 0.41704481, 0.38598147,\n",
       "       0.61560035, 0.46519315, 0.45564253, 0.37793742, 0.45961795,\n",
       "       0.51332552, 0.42756114, 0.39633437, 0.41183262, 0.39488397,\n",
       "       0.45735013, 0.36974763, 0.45484957, 0.3695695 , 0.38666181,\n",
       "       0.40059916, 0.41192678, 0.47245323, 0.45554372, 0.40478835,\n",
       "       0.46682861, 0.40070482, 0.59959378, 0.48057128, 0.37020472,\n",
       "       0.4230324 , 0.3958376 , 0.36901726, 0.42310546, 0.38598147,\n",
       "       0.42655454, 0.4879369 , 0.50006652, 0.38327714, 0.38413273,\n",
       "       0.38064815, 0.3819245 , 0.65360917, 0.41020273, 0.42077857,\n",
       "       0.38325517, 0.49942045, 0.39517285, 0.36629543, 0.44965168,\n",
       "       0.47458629, 0.45953156, 0.36216284, 0.48898405, 0.42713921,\n",
       "       0.38375364, 0.36538927, 0.45270428, 0.38466236, 0.44270193,\n",
       "       0.47935988, 0.41022872, 0.54407588, 0.41153901, 0.42575451,\n",
       "       0.38181101, 0.49334533, 0.39328377, 0.47902417, 0.4054954 ,\n",
       "       0.42900996, 0.54577329, 0.40589018, 0.44372331, 0.36946173,\n",
       "       0.39774533, 0.40050735, 0.43760333, 0.47964168, 0.38849855,\n",
       "       0.48292609, 0.39745309, 0.38153284, 0.46830301, 0.4481119 ,\n",
       "       0.48426039, 0.38153284, 0.43875273, 0.41397148, 0.55585034,\n",
       "       0.47960817, 0.47294399, 0.36508871, 0.40633342, 0.38199111,\n",
       "       0.38782495, 0.52562045, 0.39739822, 0.55188502, 0.45313125,\n",
       "       0.43030609, 0.37957375, 0.37768011, 0.39271189, 0.56083527,\n",
       "       0.5372823 , 0.37608289, 0.38333897, 0.4039598 , 0.37890272,\n",
       "       0.59959378, 0.4092287 , 0.38736601, 0.39739822, 0.42917869,\n",
       "       0.4253274 , 0.52515007, 0.40994634, 0.38097011, 0.36882814,\n",
       "       0.5374474 , 0.37608289, 0.56083527, 0.37987335, 0.38341682,\n",
       "       0.56087689, 0.42243923, 0.49360616, 0.4092287 , 0.40085641,\n",
       "       0.47733078, 0.56468457, 0.46624207, 0.40718312, 0.37437121,\n",
       "       0.36976581, 0.40940492, 0.41517534, 0.49913265, 0.5310624 ,\n",
       "       0.41891987, 0.37437121, 0.45482031, 0.50170331, 0.38781498,\n",
       "       0.42771202, 0.46309819, 0.45077894, 0.36216284, 0.44150109,\n",
       "       0.36882814, 0.37622724, 0.46917232, 0.39676738, 0.3819245 ,\n",
       "       0.37793742, 0.40912871, 0.4092287 , 0.46138162, 0.39943588,\n",
       "       0.36697533, 0.61560035, 0.58444305, 0.36901726, 0.39633437,\n",
       "       0.38036046, 0.45961795, 0.38695114, 0.44104127, 0.38849855,\n",
       "       0.39261417, 0.44104127, 0.39320732, 0.44920971, 0.5367495 ,\n",
       "       0.77853842, 0.73242831, 0.8053264 , 0.84438513, 0.73740062,\n",
       "       0.84438513, 0.76289526, 0.8053264 , 0.71298624, 0.70410963])"
      ]
     },
     "execution_count": 85,
     "metadata": {},
     "output_type": "execute_result"
    }
   ],
   "source": [
    "pred_scores"
   ]
  },
  {
   "cell_type": "code",
   "execution_count": 88,
   "id": "279510a5",
   "metadata": {},
   "outputs": [
    {
     "data": {
      "image/png": "[encoded data removed]",
      "text/plain": [
       "<Figure size 432x288 with 2 Axes>"
      ]
     },
     "metadata": {
      "needs_background": "light"
     },
     "output_type": "display_data"
    }
   ],
   "source": [
    "plt.scatter(X[:, 0], X[:, 1], c=pred_scores, cmap='RdBu')\n",
    "plt.colorbar(label='Simplified Anomaly Score');\n"
   ]
  },
  {
   "cell_type": "code",
   "execution_count": null,
   "id": "50e2e93e",
   "metadata": {},
   "outputs": [],
   "source": []
  },
  {
   "cell_type": "code",
   "execution_count": null,
   "id": "6ed74d32",
   "metadata": {},
   "outputs": [],
   "source": []
  }
 ],
 "metadata": {
  "kernelspec": {
   "display_name": "Python 3 (ipykernel)",
   "language": "python",
   "name": "python3"
  },
  "language_info": {
   "codemirror_mode": {
    "name": "ipython",
    "version": 3
   },
   "file_extension": ".py",
   "mimetype": "text/x-python",
   "name": "python",
   "nbconvert_exporter": "python",
   "pygments_lexer": "ipython3",
   "version": "3.7.13"
  }
 },
 "nbformat": 4,
 "nbformat_minor": 5
}
